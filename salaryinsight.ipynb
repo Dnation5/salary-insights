{
 "cells": [
  {
   "cell_type": "markdown",
   "id": "d23a2347-fff5-41bd-bd4b-b446f6aebf71",
   "metadata": {},
   "source": [
    "## Salary Insights\n",
    "This project analyzes salaries to help companies benchmark compensation and guide job seekers in making informed career decisions."
   ]
  },
  {
   "cell_type": "markdown",
   "id": "bc6be9be-4add-4952-a3e7-a4bc634d0921",
   "metadata": {},
   "source": [
    "## Understanding the data"
   ]
  },
  {
   "cell_type": "code",
   "execution_count": 1,
   "id": "a7cdb643-0760-47df-b3af-df177e08328d",
   "metadata": {},
   "outputs": [],
   "source": [
    "import pandas as pd \n",
    "import seaborn as sns\n",
    "import matplotlib.pyplot as plt"
   ]
  },
  {
   "cell_type": "code",
   "execution_count": 2,
   "id": "63090c21-fb48-49e5-885a-6faf8395efa1",
   "metadata": {},
   "outputs": [],
   "source": [
    "clean_salaries = pd.read_csv('ds_salaries_dirty.csv')"
   ]
  },
  {
   "cell_type": "code",
   "execution_count": 3,
   "id": "d8c2628b-ed77-4b1e-821b-d758172f0783",
   "metadata": {},
   "outputs": [
    {
     "name": "stdout",
     "output_type": "stream",
     "text": [
      "<class 'pandas.core.frame.DataFrame'>\n",
      "RangeIndex: 100 entries, 0 to 99\n",
      "Data columns (total 8 columns):\n",
      " #   Column            Non-Null Count  Dtype  \n",
      "---  ------            --------------  -----  \n",
      " 0   work_year         100 non-null    int64  \n",
      " 1   experience_level  90 non-null     object \n",
      " 2   employment_type   92 non-null     object \n",
      " 3   job_title         100 non-null    object \n",
      " 4   salary_in_usd     96 non-null     float64\n",
      " 5   remote_ratio      100 non-null    int64  \n",
      " 6   company_location  94 non-null     object \n",
      " 7   company_size      100 non-null    object \n",
      "dtypes: float64(1), int64(2), object(5)\n",
      "memory usage: 6.4+ KB\n"
     ]
    },
    {
     "data": {
      "text/html": [
       "<div>\n",
       "<style scoped>\n",
       "    .dataframe tbody tr th:only-of-type {\n",
       "        vertical-align: middle;\n",
       "    }\n",
       "\n",
       "    .dataframe tbody tr th {\n",
       "        vertical-align: top;\n",
       "    }\n",
       "\n",
       "    .dataframe thead th {\n",
       "        text-align: right;\n",
       "    }\n",
       "</style>\n",
       "<table border=\"1\" class=\"dataframe\">\n",
       "  <thead>\n",
       "    <tr style=\"text-align: right;\">\n",
       "      <th></th>\n",
       "      <th>work_year</th>\n",
       "      <th>experience_level</th>\n",
       "      <th>employment_type</th>\n",
       "      <th>job_title</th>\n",
       "      <th>salary_in_usd</th>\n",
       "      <th>remote_ratio</th>\n",
       "      <th>company_location</th>\n",
       "      <th>company_size</th>\n",
       "    </tr>\n",
       "  </thead>\n",
       "  <tbody>\n",
       "    <tr>\n",
       "      <th>0</th>\n",
       "      <td>2022</td>\n",
       "      <td>SE</td>\n",
       "      <td>CT</td>\n",
       "      <td>Data Scientist</td>\n",
       "      <td>42183.0</td>\n",
       "      <td>50</td>\n",
       "      <td>IN</td>\n",
       "      <td>L</td>\n",
       "    </tr>\n",
       "    <tr>\n",
       "      <th>1</th>\n",
       "      <td>2023</td>\n",
       "      <td>MI</td>\n",
       "      <td>FL</td>\n",
       "      <td>Data Scientist</td>\n",
       "      <td>190371.0</td>\n",
       "      <td>100</td>\n",
       "      <td>IN</td>\n",
       "      <td>S</td>\n",
       "    </tr>\n",
       "    <tr>\n",
       "      <th>2</th>\n",
       "      <td>2020</td>\n",
       "      <td>MI</td>\n",
       "      <td>CT</td>\n",
       "      <td>DS</td>\n",
       "      <td>173946.0</td>\n",
       "      <td>50</td>\n",
       "      <td>IN</td>\n",
       "      <td>L</td>\n",
       "    </tr>\n",
       "    <tr>\n",
       "      <th>3</th>\n",
       "      <td>2022</td>\n",
       "      <td>NaN</td>\n",
       "      <td>FT</td>\n",
       "      <td>ML Engineer</td>\n",
       "      <td>146336.0</td>\n",
       "      <td>50</td>\n",
       "      <td>DE</td>\n",
       "      <td>S</td>\n",
       "    </tr>\n",
       "    <tr>\n",
       "      <th>4</th>\n",
       "      <td>2022</td>\n",
       "      <td>MI</td>\n",
       "      <td>FL</td>\n",
       "      <td>ML Engineer</td>\n",
       "      <td>9999999.0</td>\n",
       "      <td>100</td>\n",
       "      <td>NG</td>\n",
       "      <td>L</td>\n",
       "    </tr>\n",
       "    <tr>\n",
       "      <th>5</th>\n",
       "      <td>2023</td>\n",
       "      <td>MI</td>\n",
       "      <td>FT</td>\n",
       "      <td>Data Scientist</td>\n",
       "      <td>35539.0</td>\n",
       "      <td>50</td>\n",
       "      <td>GB</td>\n",
       "      <td>S</td>\n",
       "    </tr>\n",
       "    <tr>\n",
       "      <th>6</th>\n",
       "      <td>2020</td>\n",
       "      <td>NaN</td>\n",
       "      <td>FL</td>\n",
       "      <td>AI Specialist</td>\n",
       "      <td>214423.0</td>\n",
       "      <td>100</td>\n",
       "      <td>DE</td>\n",
       "      <td>XL</td>\n",
       "    </tr>\n",
       "    <tr>\n",
       "      <th>7</th>\n",
       "      <td>2020</td>\n",
       "      <td>EX</td>\n",
       "      <td>FL</td>\n",
       "      <td>ML Engineer</td>\n",
       "      <td>222339.0</td>\n",
       "      <td>50</td>\n",
       "      <td>IN</td>\n",
       "      <td>S</td>\n",
       "    </tr>\n",
       "    <tr>\n",
       "      <th>8</th>\n",
       "      <td>2022</td>\n",
       "      <td>MI</td>\n",
       "      <td>PT</td>\n",
       "      <td>DS</td>\n",
       "      <td>209426.0</td>\n",
       "      <td>100</td>\n",
       "      <td>US</td>\n",
       "      <td>S</td>\n",
       "    </tr>\n",
       "    <tr>\n",
       "      <th>9</th>\n",
       "      <td>2021</td>\n",
       "      <td>SE</td>\n",
       "      <td>FT</td>\n",
       "      <td>ML Engineer</td>\n",
       "      <td>5000000.0</td>\n",
       "      <td>100</td>\n",
       "      <td>IN</td>\n",
       "      <td>M</td>\n",
       "    </tr>\n",
       "  </tbody>\n",
       "</table>\n",
       "</div>"
      ],
      "text/plain": [
       "   work_year experience_level employment_type       job_title  salary_in_usd  \\\n",
       "0       2022               SE              CT  Data Scientist        42183.0   \n",
       "1       2023               MI              FL  Data Scientist       190371.0   \n",
       "2       2020               MI              CT              DS       173946.0   \n",
       "3       2022              NaN              FT     ML Engineer       146336.0   \n",
       "4       2022               MI              FL     ML Engineer      9999999.0   \n",
       "5       2023               MI              FT  Data Scientist        35539.0   \n",
       "6       2020              NaN              FL   AI Specialist       214423.0   \n",
       "7       2020               EX              FL     ML Engineer       222339.0   \n",
       "8       2022               MI              PT              DS       209426.0   \n",
       "9       2021               SE              FT     ML Engineer      5000000.0   \n",
       "\n",
       "   remote_ratio company_location company_size  \n",
       "0            50               IN            L  \n",
       "1           100               IN            S  \n",
       "2            50               IN            L  \n",
       "3            50               DE            S  \n",
       "4           100               NG            L  \n",
       "5            50               GB            S  \n",
       "6           100               DE           XL  \n",
       "7            50               IN            S  \n",
       "8           100               US            S  \n",
       "9           100               IN            M  "
      ]
     },
     "execution_count": 3,
     "metadata": {},
     "output_type": "execute_result"
    }
   ],
   "source": [
    "clean_salaries.info()\n",
    "clean_salaries.head(10)"
   ]
  },
  {
   "cell_type": "code",
   "execution_count": 4,
   "id": "23a956d0-ab12-4a61-bb66-06007f3c8a89",
   "metadata": {},
   "outputs": [
    {
     "data": {
      "text/plain": [
       "(100, 8)"
      ]
     },
     "execution_count": 4,
     "metadata": {},
     "output_type": "execute_result"
    }
   ],
   "source": [
    "clean_salaries.shape"
   ]
  },
  {
   "cell_type": "markdown",
   "id": "400db949-9b8b-4504-92a7-3b34f189a2b1",
   "metadata": {},
   "source": [
    "## Checking for missing data"
   ]
  },
  {
   "cell_type": "code",
   "execution_count": 5,
   "id": "01e0e0f1-e7f4-4336-9a4e-a9ae5100c5bd",
   "metadata": {},
   "outputs": [
    {
     "data": {
      "text/plain": [
       "work_year            0\n",
       "experience_level    10\n",
       "employment_type      8\n",
       "job_title            0\n",
       "salary_in_usd        4\n",
       "remote_ratio         0\n",
       "company_location     6\n",
       "company_size         0\n",
       "dtype: int64"
      ]
     },
     "execution_count": 5,
     "metadata": {},
     "output_type": "execute_result"
    }
   ],
   "source": [
    "clean_salaries.isnull().sum()"
   ]
  },
  {
   "cell_type": "markdown",
   "id": "f1a19ca4-fefb-4771-9e8a-0bcbe940645f",
   "metadata": {},
   "source": [
    "## Checking for duplicate"
   ]
  },
  {
   "cell_type": "code",
   "execution_count": 6,
   "id": "05114c4a-9c91-4054-adcc-731c57312a95",
   "metadata": {},
   "outputs": [
    {
     "data": {
      "text/plain": [
       "0"
      ]
     },
     "execution_count": 6,
     "metadata": {},
     "output_type": "execute_result"
    }
   ],
   "source": [
    "clean_salaries.duplicated().sum()"
   ]
  },
  {
   "cell_type": "code",
   "execution_count": 7,
   "id": "50a51925-b9a9-4abc-b191-6c6cba21a3b3",
   "metadata": {},
   "outputs": [
    {
     "data": {
      "text/plain": [
       "False"
      ]
     },
     "execution_count": 7,
     "metadata": {},
     "output_type": "execute_result"
    }
   ],
   "source": [
    "clean_salaries = clean_salaries[clean_salaries['job_title'].astype(str).str.len() >= 3]\n",
    "(clean_salaries['job_title'].str.len() < 3).any()"
   ]
  },
  {
   "cell_type": "markdown",
   "id": "4933c9ad-d337-4fa1-9a53-6d5bc510b0c0",
   "metadata": {},
   "source": [
    "Four columns (experience_level, employment_type, salary_in_usd, and company_location) contain some missing data.\n",
    "\n",
    "No duplicate data exists.\n",
    "\n",
    "Entries in the job_title column that contained fewer than three characters were removed."
   ]
  },
  {
   "cell_type": "markdown",
   "id": "20b34cbe-94ba-411f-bb80-74694d3849cf",
   "metadata": {},
   "source": [
    "## Handling Missing Data"
   ]
  },
  {
   "cell_type": "code",
   "execution_count": 11,
   "id": "6b9544db-1af9-4b2d-b8ec-9e2196005281",
   "metadata": {},
   "outputs": [
    {
     "name": "stderr",
     "output_type": "stream",
     "text": [
      "C:\\Users\\AGU MICHAEL\\AppData\\Local\\Temp\\ipykernel_1412\\1152820542.py:1: SettingWithCopyWarning: \n",
      "A value is trying to be set on a copy of a slice from a DataFrame\n",
      "\n",
      "See the caveats in the documentation: https://pandas.pydata.org/pandas-docs/stable/user_guide/indexing.html#returning-a-view-versus-a-copy\n",
      "  clean_salaries['experience_level'].fillna('EN', inplace=True)\n"
     ]
    }
   ],
   "source": [
    "clean_salaries['experience_level'].fillna('EN', inplace=True)"
   ]
  },
  {
   "cell_type": "code",
   "execution_count": 12,
   "id": "9e27f028-ee90-4587-a93f-0d0f0731f29e",
   "metadata": {},
   "outputs": [
    {
     "data": {
      "text/plain": [
       "False"
      ]
     },
     "execution_count": 12,
     "metadata": {},
     "output_type": "execute_result"
    }
   ],
   "source": [
    "clean_salaries['experience_level'].isnull().any()"
   ]
  },
  {
   "cell_type": "markdown",
   "id": "07b3a3dc-e92c-4dbd-87b5-d8ea5ba2226b",
   "metadata": {},
   "source": [
    "substituted \"EN\" for the missing values in the \"experience_level\" column."
   ]
  },
  {
   "cell_type": "code",
   "execution_count": 14,
   "id": "64ee7de3-657c-4a5c-b522-162d0ef689ed",
   "metadata": {},
   "outputs": [
    {
     "name": "stderr",
     "output_type": "stream",
     "text": [
      "C:\\Users\\AGU MICHAEL\\AppData\\Local\\Temp\\ipykernel_1412\\747224055.py:1: SettingWithCopyWarning: \n",
      "A value is trying to be set on a copy of a slice from a DataFrame\n",
      "\n",
      "See the caveats in the documentation: https://pandas.pydata.org/pandas-docs/stable/user_guide/indexing.html#returning-a-view-versus-a-copy\n",
      "  clean_salaries['employment_type'].fillna('FT', inplace=True)\n"
     ]
    }
   ],
   "source": [
    "clean_salaries['employment_type'].fillna('FT', inplace=True)"
   ]
  },
  {
   "cell_type": "code",
   "execution_count": 15,
   "id": "f13fe99e-729b-4a5f-8262-359ba7f46cdf",
   "metadata": {},
   "outputs": [
    {
     "data": {
      "text/plain": [
       "False"
      ]
     },
     "execution_count": 15,
     "metadata": {},
     "output_type": "execute_result"
    }
   ],
   "source": [
    "clean_salaries['employment_type'].isnull().any()"
   ]
  },
  {
   "cell_type": "markdown",
   "id": "b8eae035-8a72-4f2a-a6cf-797060cbb4fa",
   "metadata": {},
   "source": [
    "changed the column's \"employment_type\" missing values to \"FT"
   ]
  },
  {
   "cell_type": "code",
   "execution_count": 16,
   "id": "12f4e00a-8ee5-4c7b-b9e2-71ba67f21592",
   "metadata": {},
   "outputs": [],
   "source": [
    "valid_salary_mask = clean_salaries['salary_in_usd'].between(10_000, 1_000_000)\n",
    "valid_salary_median = clean_salaries.loc[valid_salary_mask, 'salary_in_usd'].median()\n",
    "clean_salaries.loc[~valid_salary_mask, 'salary_in_usd'] = valid_salary_median"
   ]
  },
  {
   "cell_type": "code",
   "execution_count": 17,
   "id": "02de033b-d83a-4925-8639-c1dcdac63a44",
   "metadata": {},
   "outputs": [
    {
     "name": "stdout",
     "output_type": "stream",
     "text": [
      "Number of outliers replaced with median: 7\n"
     ]
    }
   ],
   "source": [
    "replaced = clean_salaries[\n",
    "    ((clean_salaries['salary_in_usd'] < valid_salary_mask) | (clean_salaries['salary_in_usd'] > valid_salary_mask)) &\n",
    "    (clean_salaries['salary_in_usd'] == valid_salary_median)\n",
    "]\n",
    "\n",
    "print(\"Number of outliers replaced with median:\", len(replaced))"
   ]
  },
  {
   "cell_type": "markdown",
   "id": "e4cee5fc-e6b5-4cd0-a912-64cf3ce31be0",
   "metadata": {},
   "source": [
    "In order to determine which salary values fell within the specified range, I used the .between() method to create a boolean mask.\n",
    "\n",
    "I calculated the median of the valid salary values.\n",
    "\n",
    "To maintain consistency, I substituted the calculated median for all salaries below 10,000 or over 1,000,000."
   ]
  },
  {
   "cell_type": "code",
   "execution_count": 19,
   "id": "cd2e5c59-af17-4f19-a513-20602ba51ebf",
   "metadata": {},
   "outputs": [
    {
     "name": "stderr",
     "output_type": "stream",
     "text": [
      "C:\\Users\\AGU MICHAEL\\AppData\\Local\\Temp\\ipykernel_1412\\594156458.py:1: FutureWarning: A value is trying to be set on a copy of a DataFrame or Series through chained assignment using an inplace method.\n",
      "The behavior will change in pandas 3.0. This inplace method will never work because the intermediate object on which we are setting values always behaves as a copy.\n",
      "\n",
      "For example, when doing 'df[col].method(value, inplace=True)', try using 'df.method({col: value}, inplace=True)' or df[col] = df[col].method(value) instead, to perform the operation inplace on the original object.\n",
      "\n",
      "\n",
      "  clean_salaries['salary_in_usd'].fillna(clean_salaries['salary_in_usd'].median(), inplace=True)\n",
      "C:\\Users\\AGU MICHAEL\\AppData\\Local\\Temp\\ipykernel_1412\\594156458.py:1: SettingWithCopyWarning: \n",
      "A value is trying to be set on a copy of a slice from a DataFrame\n",
      "\n",
      "See the caveats in the documentation: https://pandas.pydata.org/pandas-docs/stable/user_guide/indexing.html#returning-a-view-versus-a-copy\n",
      "  clean_salaries['salary_in_usd'].fillna(clean_salaries['salary_in_usd'].median(), inplace=True)\n"
     ]
    }
   ],
   "source": [
    "clean_salaries['salary_in_usd'].fillna(clean_salaries['salary_in_usd'].median(), inplace=True)"
   ]
  },
  {
   "cell_type": "code",
   "execution_count": 20,
   "id": "b84d8ae3-d254-4eea-93ff-9cd30ee0bce5",
   "metadata": {},
   "outputs": [
    {
     "data": {
      "text/plain": [
       "False"
      ]
     },
     "execution_count": 20,
     "metadata": {},
     "output_type": "execute_result"
    }
   ],
   "source": [
    "clean_salaries['salary_in_usd'].isnull().any()"
   ]
  },
  {
   "cell_type": "markdown",
   "id": "6bc3a0ce-9c94-4460-8980-fe003ef55d66",
   "metadata": {},
   "source": [
    "Replaced missing values in 'salary_in_usd' with median"
   ]
  },
  {
   "cell_type": "code",
   "execution_count": 22,
   "id": "5740988e-44a2-4b63-8882-7619fc3563fd",
   "metadata": {},
   "outputs": [
    {
     "name": "stderr",
     "output_type": "stream",
     "text": [
      "C:\\Users\\AGU MICHAEL\\AppData\\Local\\Temp\\ipykernel_1412\\1461777828.py:1: SettingWithCopyWarning: \n",
      "A value is trying to be set on a copy of a slice from a DataFrame\n",
      "\n",
      "See the caveats in the documentation: https://pandas.pydata.org/pandas-docs/stable/user_guide/indexing.html#returning-a-view-versus-a-copy\n",
      "  clean_salaries['company_location'].fillna('US', inplace=True)\n"
     ]
    }
   ],
   "source": [
    "clean_salaries['company_location'].fillna('US', inplace=True)"
   ]
  },
  {
   "cell_type": "code",
   "execution_count": 23,
   "id": "9eacf32d-95fa-4301-ba25-4994dca043b8",
   "metadata": {},
   "outputs": [
    {
     "data": {
      "text/plain": [
       "False"
      ]
     },
     "execution_count": 23,
     "metadata": {},
     "output_type": "execute_result"
    }
   ],
   "source": [
    "clean_salaries['company_location'].isnull().any()"
   ]
  },
  {
   "cell_type": "markdown",
   "id": "e763ad40-3aa3-4c0f-a399-da80d1f6a67a",
   "metadata": {},
   "source": [
    "changed the missing values in the \"company_location\" column to \"US.\""
   ]
  },
  {
   "cell_type": "markdown",
   "id": "c66e2189-2005-4b7e-9169-e54ad2a9ce71",
   "metadata": {},
   "source": [
    "## Salary Trends by Experience"
   ]
  },
  {
   "cell_type": "code",
   "execution_count": 24,
   "id": "1c993919-45ac-4fdf-aff2-729f444348ea",
   "metadata": {},
   "outputs": [
    {
     "data": {
      "text/html": [
       "<div>\n",
       "<style scoped>\n",
       "    .dataframe tbody tr th:only-of-type {\n",
       "        vertical-align: middle;\n",
       "    }\n",
       "\n",
       "    .dataframe tbody tr th {\n",
       "        vertical-align: top;\n",
       "    }\n",
       "\n",
       "    .dataframe thead th {\n",
       "        text-align: right;\n",
       "    }\n",
       "</style>\n",
       "<table border=\"1\" class=\"dataframe\">\n",
       "  <thead>\n",
       "    <tr style=\"text-align: right;\">\n",
       "      <th></th>\n",
       "      <th>experience_level</th>\n",
       "      <th>employment_type</th>\n",
       "      <th>salary_in_usd</th>\n",
       "    </tr>\n",
       "  </thead>\n",
       "  <tbody>\n",
       "    <tr>\n",
       "      <th>0</th>\n",
       "      <td>EN</td>\n",
       "      <td>CT</td>\n",
       "      <td>91934.20</td>\n",
       "    </tr>\n",
       "    <tr>\n",
       "      <th>1</th>\n",
       "      <td>EN</td>\n",
       "      <td>FL</td>\n",
       "      <td>160093.33</td>\n",
       "    </tr>\n",
       "    <tr>\n",
       "      <th>2</th>\n",
       "      <td>EN</td>\n",
       "      <td>FT</td>\n",
       "      <td>132460.33</td>\n",
       "    </tr>\n",
       "    <tr>\n",
       "      <th>3</th>\n",
       "      <td>EN</td>\n",
       "      <td>PT</td>\n",
       "      <td>164572.86</td>\n",
       "    </tr>\n",
       "    <tr>\n",
       "      <th>4</th>\n",
       "      <td>EX</td>\n",
       "      <td>CT</td>\n",
       "      <td>166817.20</td>\n",
       "    </tr>\n",
       "    <tr>\n",
       "      <th>5</th>\n",
       "      <td>EX</td>\n",
       "      <td>FL</td>\n",
       "      <td>163361.25</td>\n",
       "    </tr>\n",
       "    <tr>\n",
       "      <th>6</th>\n",
       "      <td>EX</td>\n",
       "      <td>FT</td>\n",
       "      <td>175002.62</td>\n",
       "    </tr>\n",
       "    <tr>\n",
       "      <th>7</th>\n",
       "      <td>EX</td>\n",
       "      <td>PT</td>\n",
       "      <td>110018.50</td>\n",
       "    </tr>\n",
       "    <tr>\n",
       "      <th>8</th>\n",
       "      <td>MI</td>\n",
       "      <td>CT</td>\n",
       "      <td>170696.75</td>\n",
       "    </tr>\n",
       "    <tr>\n",
       "      <th>9</th>\n",
       "      <td>MI</td>\n",
       "      <td>FL</td>\n",
       "      <td>127798.00</td>\n",
       "    </tr>\n",
       "    <tr>\n",
       "      <th>10</th>\n",
       "      <td>MI</td>\n",
       "      <td>FT</td>\n",
       "      <td>116323.75</td>\n",
       "    </tr>\n",
       "    <tr>\n",
       "      <th>11</th>\n",
       "      <td>MI</td>\n",
       "      <td>PT</td>\n",
       "      <td>131637.75</td>\n",
       "    </tr>\n",
       "    <tr>\n",
       "      <th>12</th>\n",
       "      <td>SE</td>\n",
       "      <td>CT</td>\n",
       "      <td>127803.83</td>\n",
       "    </tr>\n",
       "    <tr>\n",
       "      <th>13</th>\n",
       "      <td>SE</td>\n",
       "      <td>FL</td>\n",
       "      <td>129452.75</td>\n",
       "    </tr>\n",
       "    <tr>\n",
       "      <th>14</th>\n",
       "      <td>SE</td>\n",
       "      <td>FT</td>\n",
       "      <td>139969.55</td>\n",
       "    </tr>\n",
       "    <tr>\n",
       "      <th>15</th>\n",
       "      <td>SE</td>\n",
       "      <td>PT</td>\n",
       "      <td>170817.67</td>\n",
       "    </tr>\n",
       "  </tbody>\n",
       "</table>\n",
       "</div>"
      ],
      "text/plain": [
       "   experience_level employment_type  salary_in_usd\n",
       "0                EN              CT       91934.20\n",
       "1                EN              FL      160093.33\n",
       "2                EN              FT      132460.33\n",
       "3                EN              PT      164572.86\n",
       "4                EX              CT      166817.20\n",
       "5                EX              FL      163361.25\n",
       "6                EX              FT      175002.62\n",
       "7                EX              PT      110018.50\n",
       "8                MI              CT      170696.75\n",
       "9                MI              FL      127798.00\n",
       "10               MI              FT      116323.75\n",
       "11               MI              PT      131637.75\n",
       "12               SE              CT      127803.83\n",
       "13               SE              FL      129452.75\n",
       "14               SE              FT      139969.55\n",
       "15               SE              PT      170817.67"
      ]
     },
     "execution_count": 24,
     "metadata": {},
     "output_type": "execute_result"
    }
   ],
   "source": [
    "salary_trends = clean_salaries.groupby(['experience_level', 'employment_type'])['salary_in_usd'].mean().reset_index()\n",
    "\n",
    "salary_trends['salary_in_usd'] = salary_trends['salary_in_usd'].round(2)\n",
    "\n",
    "salary_trends"
   ]
  },
  {
   "cell_type": "code",
   "execution_count": 28,
   "id": "c16f5b12-d8dd-4e58-aeb2-b7a9e371879d",
   "metadata": {},
   "outputs": [
    {
     "data": {
      "image/png": "[encoded data removed]",
      "text/plain": [
       "<Figure size 800x400 with 1 Axes>"
      ]
     },
     "metadata": {},
     "output_type": "display_data"
    }
   ],
   "source": [
    "plt.figure(figsize=(8, 4))\n",
    "sns.barplot(\n",
    "    data=salary_trends,\n",
    "    x='experience_level',\n",
    "    y='salary_in_usd',\n",
    "    hue='employment_type',\n",
    "    palette='Set2'\n",
    ")\n",
    "\n",
    "plt.title(\"Average Salary by Experience Level and Employment Type\")\n",
    "plt.xlabel(\"Experience Level\")\n",
    "plt.ylabel(\"Average Salary\")\n",
    "plt.legend(title='Employment Type')\n",
    "plt.tight_layout()\n",
    "plt.show()"
   ]
  },
  {
   "cell_type": "markdown",
   "id": "3cddc75b-46be-4be9-a011-e12e31ff5c91",
   "metadata": {},
   "source": [
    "## Experience Level vs. Average Salary by Employment Type"
   ]
  },
  {
   "cell_type": "markdown",
   "id": "399a05a6-8c7d-4903-9385-732059df0f31",
   "metadata": {},
   "source": [
    "An employee with an EN (entry-level) experience and a PT (part-time) role earn the highest average salary\n",
    "\n",
    "An employee with an EN (entry-level) experience and a CT (Contract) role earn the lowest average salary\n",
    "\n",
    "An employee with an EX (executive-level) experience and a FT (full-time) role earn the highest average salary\n",
    "\n",
    "An employee with an EX (executive-level) experience and a PT (part-time) role earn the lowest average salary\n",
    "\n",
    "An employee with a MI (mid-Level) experience and a CT (contract) role earn the highest average salary\n",
    "\n",
    "An employee with a MI (mid-level) experience and a FT (full-time) role earn the lowest average salary\n",
    "\n",
    "An employee with a SE (senior-level) experience and a PT (part-time) role earn the highest average salary\n",
    "\n",
    "An employee with a SE (senior-level) experience and a CT (contract) role earn the lowest average salary"
   ]
  },
  {
   "cell_type": "markdown",
   "id": "3d2032ba-d4eb-444d-a5fa-bfbcc9aeb216",
   "metadata": {},
   "source": [
    "## Overall Findings"
   ]
  },
  {
   "cell_type": "markdown",
   "id": "112dc8ce-df4a-4266-9345-c63f61206706",
   "metadata": {},
   "source": [
    "Executive level is a strong predictor of salary, especially in full-time roles, which show a consistent upward trend.\n",
    "\n",
    "FL (freelancers) typically earn a respectable salary regardless of their level of experience."
   ]
  },
  {
   "cell_type": "markdown",
   "id": "e86b1e56-3914-414d-a0cc-6470e642af4d",
   "metadata": {},
   "source": [
    "## Remote Work Analysis"
   ]
  },
  {
   "cell_type": "code",
   "execution_count": 29,
   "id": "a50b1c44-6b37-4b98-8e14-1d1877c6e292",
   "metadata": {},
   "outputs": [],
   "source": [
    "analysis = clean_salaries.copy()\n",
    "remote_avg = analysis[analysis['remote_ratio'] == 100]['salary_in_usd'].mean()\n",
    "onsite_avg = analysis[analysis['remote_ratio'] == 0]['salary_in_usd'].mean()\n",
    "remote_salary_comparison = pd.DataFrame({\n",
    "    'Work Type': ['Remote', 'On-site'],\n",
    "    'Average Salary (USD)': [remote_avg, onsite_avg]\n",
    "})\n",
    "remote_salary_comparison['Average Salary (USD)'] = remote_salary_comparison['Average Salary (USD)'].round(2)"
   ]
  },
  {
   "cell_type": "markdown",
   "id": "58707145-8af2-4378-88a9-2b353366c760",
   "metadata": {},
   "source": [
    "remote_salary_comparison"
   ]
  },
  {
   "cell_type": "markdown",
   "id": "2dc4b15b-2097-4316-a414-2039e4593da3",
   "metadata": {},
   "source": [
    "## Remote Work and Salary Comparison"
   ]
  },
  {
   "cell_type": "markdown",
   "id": "e9b89efd-b80f-4c8b-8361-6fd46229a21a",
   "metadata": {},
   "source": [
    "Contrary to my expectations, the analysis shows that on-site roles have a higher average salary than remote roles. This may be influenced by:\n",
    "\n",
    "A higher proportion of executive roles being on-site\n",
    "\n",
    "Geographic location of on-site jobs being in high-paying regions\n",
    "\n",
    "Also, a few entries were deleted."
   ]
  },
  {
   "cell_type": "code",
   "execution_count": null,
   "id": "efaa7ace-f5cc-455f-a918-d8dc90784975",
   "metadata": {},
   "outputs": [],
   "source": []
  },
  {
   "cell_type": "code",
   "execution_count": null,
   "id": "7a69a00e-f396-4786-b901-bd726944f2ca",
   "metadata": {},
   "outputs": [],
   "source": []
  },
  {
   "cell_type": "code",
   "execution_count": null,
   "id": "923d477a-e598-4f57-82bb-fc12d201f5d9",
   "metadata": {},
   "outputs": [],
   "source": []
  }
 ],
 "metadata": {
  "kernelspec": {
   "display_name": "Python 3 (ipykernel)",
   "language": "python",
   "name": "python3"
  },
  "language_info": {
   "codemirror_mode": {
    "name": "ipython",
    "version": 3
   },
   "file_extension": ".py",
   "mimetype": "text/x-python",
   "name": "python",
   "nbconvert_exporter": "python",
   "pygments_lexer": "ipython3",
   "version": "3.12.7"
  }
 },
 "nbformat": 4,
 "nbformat_minor": 5
}
